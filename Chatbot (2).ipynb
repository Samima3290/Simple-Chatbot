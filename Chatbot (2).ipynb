{
  "nbformat": 4,
  "nbformat_minor": 0,
  "metadata": {
    "colab": {
      "provenance": [],
      "toc_visible": true
    },
    "kernelspec": {
      "name": "python3",
      "display_name": "Python 3"
    },
    "language_info": {
      "name": "python"
    }
  },
  "cells": [
    {
      "cell_type": "markdown",
      "source": [
        "#**Samima Siddiq**"
      ],
      "metadata": {
        "id": "WXIE4LJiUgdE"
      }
    },
    {
      "cell_type": "markdown",
      "source": [
        "### **Machine Learning Intern @SYNC Intern's**"
      ],
      "metadata": {
        "id": "7R3ZSzjsYvMe"
      }
    },
    {
      "cell_type": "markdown",
      "source": [
        "### **Task 1: Create a Chatbot**"
      ],
      "metadata": {
        "id": "YMPPb64dUgr0"
      }
    },
    {
      "cell_type": "code",
      "source": [
        "!pip install pyjokes"
      ],
      "metadata": {
        "colab": {
          "base_uri": "https://localhost:8080/"
        },
        "id": "SV-q9fADUhTR",
        "outputId": "5321fb51-cab7-4201-bdaf-02b45db2e436"
      },
      "execution_count": 2,
      "outputs": [
        {
          "output_type": "stream",
          "name": "stdout",
          "text": [
            "Looking in indexes: https://pypi.org/simple, https://us-python.pkg.dev/colab-wheels/public/simple/\n",
            "Collecting pyjokes\n",
            "  Downloading pyjokes-0.6.0-py2.py3-none-any.whl (26 kB)\n",
            "Installing collected packages: pyjokes\n",
            "Successfully installed pyjokes-0.6.0\n"
          ]
        }
      ]
    },
    {
      "cell_type": "code",
      "source": [
        "import pyjokes"
      ],
      "metadata": {
        "id": "er15OOQQfgg8"
      },
      "execution_count": 3,
      "outputs": []
    },
    {
      "cell_type": "code",
      "source": [
        "import nltk\n",
        "import string\n",
        "from nltk.chat.util import Chat, reflections\n",
        "from sklearn.feature_extraction.text import TfidfVectorizer\n",
        "from sklearn.metrics.pairwise import cosine_similarity"
      ],
      "metadata": {
        "id": "TPpXDIP-TFOG"
      },
      "execution_count": 4,
      "outputs": []
    },
    {
      "cell_type": "code",
      "source": [
        "pairs = [\n",
        "    ['hi', ['Hello!', 'Hi there!', 'Hey!']],\n",
        "    ['how are you', ['I am doing well, thank you!', 'I am fine, thanks for asking.']],\n",
        "    ['what is your name', ['My name is Chatbot.']],\n",
        "    ['bye', ['Goodbye!', 'See you later.']],\n",
        "    ['tell me a joke', [pyjokes.get_joke(language=\"en\", category=\"neutral\")]],\n",
        "    ['another joke', [pyjokes.get_joke(language=\"en\", category=\"neutral\")]],\n",
        "    ['default', ['I am sorry, but I do not understand.']],\n",
        "]\n",
        "\n",
        "# Define the chatbot's logic\n",
        "def chatbot_response(user_input):\n",
        "    response = ''\n",
        "    sent_tokens.append(user_input)\n",
        "    TfidfVec = TfidfVectorizer(tokenizer=LemNormalize, stop_words='english')\n",
        "    tfidf = TfidfVec.fit_transform(sent_tokens)\n",
        "    vals = cosine_similarity(tfidf[-1], tfidf)\n",
        "    idx = vals.argsort()[0][-2]\n",
        "    flat = vals.flatten()\n",
        "    flat.sort()\n",
        "    req_tfidf = flat[-2]\n",
        "    if(req_tfidf == 0):\n",
        "        response = response + \"I am sorry, but I do not understand.\"\n",
        "        return response\n",
        "    else:\n",
        "        response = response + sent_tokens[idx]\n",
        "        return response\n",
        "\n",
        "# Define the chatbot's input processing\n",
        "def LemTokens(tokens):\n",
        "    lemmer = nltk.stem.WordNetLemmatizer()\n",
        "    return [lemmer.lemmatize(token) for token in tokens]\n",
        "\n",
        "def LemNormalize(text):\n",
        "    remove_punct_dict = dict((ord(punct), None) for punct in string.punctuation)\n",
        "    return LemTokens(nltk.word_tokenize(text.lower().translate(remove_punct_dict)))\n",
        "\n",
        "# Initialize the chatbot\n",
        "chatbot = Chat(pairs, reflections)\n",
        "\n",
        "# Define an empty list for storing input sentences\n",
        "sent_tokens = []\n",
        "\n",
        "# Start the chatbot\n",
        "chatbot.converse()\n"
      ],
      "metadata": {
        "colab": {
          "base_uri": "https://localhost:8080/"
        },
        "id": "MCyypA4tf5JZ",
        "outputId": "6f7b1c90-9091-4d4c-ac19-92d06d9e3104"
      },
      "execution_count": null,
      "outputs": [
        {
          "output_type": "stream",
          "name": "stdout",
          "text": [
            ">Hi\n",
            "Hey!\n",
            ">how are you\n",
            "I am fine, thanks for asking.\n",
            ">what is your name\n",
            "My name is Chatbot.\n",
            ">tell me a joke\n",
            "Why did Microsoft name their search engine BING? Because It's Not Google.\n",
            ">another joke\n",
            "Unix is user friendly. It's just very particular about who its friends are.\n"
          ]
        }
      ]
    }
  ]
}